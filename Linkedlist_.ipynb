{
  "nbformat": 4,
  "nbformat_minor": 0,
  "metadata": {
    "colab": {
      "provenance": [],
      "authorship_tag": "ABX9TyNvqv94tt0nAsH8qdv7wy9f",
      "include_colab_link": true
    },
    "kernelspec": {
      "name": "python3",
      "display_name": "Python 3"
    },
    "language_info": {
      "name": "python"
    }
  },
  "cells": [
    {
      "cell_type": "markdown",
      "metadata": {
        "id": "view-in-github",
        "colab_type": "text"
      },
      "source": [
        "<a href=\"https://colab.research.google.com/github/Ariascarljans/58010-DSAA/blob/main/Linkedlist_.ipynb\" target=\"_parent\"><img src=\"https://colab.research.google.com/assets/colab-badge.svg\" alt=\"Open In Colab\"/></a>"
      ]
    },
    {
      "cell_type": "markdown",
      "source": [
        "Example 01. Import arrray"
      ],
      "metadata": {
        "id": "DKDlMtgxToBZ"
      }
    },
    {
      "cell_type": "code",
      "execution_count": null,
      "metadata": {
        "colab": {
          "base_uri": "https://localhost:8080/",
          "height": 35
        },
        "id": "dGM1KS1tSNHg",
        "outputId": "fb3e6190-c8a3-4f86-cb09-93e099645778"
      },
      "outputs": [
        {
          "output_type": "execute_result",
          "data": {
            "text/plain": [
              "'f'"
            ],
            "application/vnd.google.colaboratory.intrinsic+json": {
              "type": "string"
            }
          },
          "metadata": {},
          "execution_count": 1
        }
      ],
      "source": [
        "import array\n",
        "array.typecodes #get all typecodes\n",
        "a= array.array('i',[1,2,3,4,5,6,]) #initializing array a\n",
        "b= array.array('f',[1,5,2,5,3,4,5,5,5,6,5]) #initializing array b\n",
        "a.typecode # getting the typecode of a\n",
        "b.typecode # getting the typcode of b"
      ]
    },
    {
      "cell_type": "markdown",
      "source": [
        "Example no. 02"
      ],
      "metadata": {
        "id": "5BopKaGQViT3"
      }
    },
    {
      "cell_type": "code",
      "source": [
        "#Node class\n",
        "class Node:\n",
        "  #fucntion to initialize the node object\n",
        "  def _init_(self,data):\n",
        "    self.data = data #Assign data\n",
        "    self.next = None #initialize next as null\n",
        "\n",
        "#linked list cclass\n",
        "class LinkedList:\n",
        "  def _init_(self):\n",
        "    self.head = None\n",
        "\n",
        "if __name__=='_main__':\n",
        "  llist = Linkedlist()\n",
        "  llist.head = Node (1)\n",
        "  second = Node (2)\n",
        "  third = Node (3)\n",
        "  llist.head.next = second;\n",
        "  second.next = third;\n",
        "\n",
        "\n"
      ],
      "metadata": {
        "id": "cTm5DmEEVoav"
      },
      "execution_count": null,
      "outputs": []
    }
  ]
}