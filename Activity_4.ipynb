{
  "nbformat": 4,
  "nbformat_minor": 0,
  "metadata": {
    "colab": {
      "provenance": [],
      "authorship_tag": "ABX9TyN6YoyWS3ztI/B9YUsVEjaF",
      "include_colab_link": true
    },
    "kernelspec": {
      "name": "python3",
      "display_name": "Python 3"
    },
    "language_info": {
      "name": "python"
    }
  },
  "cells": [
    {
      "cell_type": "markdown",
      "metadata": {
        "id": "view-in-github",
        "colab_type": "text"
      },
      "source": [
        "<a href=\"https://colab.research.google.com/github/Ariascarljans/58010-DSAA/blob/main/Activity_4.ipynb\" target=\"_parent\"><img src=\"https://colab.research.google.com/assets/colab-badge.svg\" alt=\"Open In Colab\"/></a>"
      ]
    },
    {
      "cell_type": "markdown",
      "source": [
        "Create a Python program that will traverse all integers (1 to 100) from the list, enqueue those integers that are odd in the list, and dequeue afterward until the list becomes empty."
      ],
      "metadata": {
        "id": "f9xBnYnVry7E"
      }
    },
    {
      "cell_type": "code",
      "execution_count": 4,
      "metadata": {
        "colab": {
          "base_uri": "https://localhost:8080/"
        },
        "id": "IklimhfOrnQL",
        "outputId": "b848306e-dc53-40bc-b205-fa071c252169"
      },
      "outputs": [
        {
          "output_type": "stream",
          "name": "stdout",
          "text": [
            "Dequeued: 1\n",
            "Dequeued: 3\n",
            "Dequeued: 5\n",
            "Dequeued: 7\n",
            "Dequeued: 9\n",
            "Dequeued: 11\n",
            "Dequeued: 13\n",
            "Dequeued: 15\n",
            "Dequeued: 17\n",
            "Dequeued: 19\n",
            "Dequeued: 21\n",
            "Dequeued: 23\n",
            "Dequeued: 25\n",
            "Dequeued: 27\n",
            "Dequeued: 29\n",
            "Dequeued: 31\n",
            "Dequeued: 33\n",
            "Dequeued: 35\n",
            "Dequeued: 37\n",
            "Dequeued: 39\n",
            "Dequeued: 41\n",
            "Dequeued: 43\n",
            "Dequeued: 45\n",
            "Dequeued: 47\n",
            "Dequeued: 49\n",
            "Dequeued: 51\n",
            "Dequeued: 53\n",
            "Dequeued: 55\n",
            "Dequeued: 57\n",
            "Dequeued: 59\n",
            "Dequeued: 61\n",
            "Dequeued: 63\n",
            "Dequeued: 65\n",
            "Dequeued: 67\n",
            "Dequeued: 69\n",
            "Dequeued: 71\n",
            "Dequeued: 73\n",
            "Dequeued: 75\n",
            "Dequeued: 77\n",
            "Dequeued: 79\n",
            "Dequeued: 81\n",
            "Dequeued: 83\n",
            "Dequeued: 85\n",
            "Dequeued: 87\n",
            "Dequeued: 89\n",
            "Dequeued: 91\n",
            "Dequeued: 93\n",
            "Dequeued: 95\n",
            "Dequeued: 97\n",
            "Dequeued: 99\n",
            "Queue is empty.\n"
          ]
        }
      ],
      "source": [
        "class Queue:\n",
        "    def __init__(self):\n",
        "        self.items = []\n",
        "\n",
        "    def enqueue(self, item):\n",
        "        self.items.append(item)\n",
        "\n",
        "    def dequeue(self):\n",
        "        if not self.is_empty():\n",
        "            return self.items.pop(0)\n",
        "        else:\n",
        "            return None\n",
        "\n",
        "    def is_empty(self):\n",
        "        return len(self.items) == 0\n",
        "\n",
        "my_queue = Queue()\n",
        "\n",
        "for num in range(1, 101):\n",
        "    if num % 2 != 0:\n",
        "        my_queue.enqueue(num)\n",
        "\n",
        "while not my_queue.is_empty():\n",
        "    item = my_queue.dequeue()\n",
        "    if item is not None:\n",
        "        print(f\"Dequeued: {item}\")\n",
        "\n",
        "print(\"Queue is empty.\")"
      ]
    }
  ]
}