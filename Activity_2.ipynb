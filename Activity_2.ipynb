{
  "nbformat": 4,
  "nbformat_minor": 0,
  "metadata": {
    "colab": {
      "provenance": [],
      "authorship_tag": "ABX9TyP26hiTLiKoectMJZb0KOEx",
      "include_colab_link": true
    },
    "kernelspec": {
      "name": "python3",
      "display_name": "Python 3"
    },
    "language_info": {
      "name": "python"
    }
  },
  "cells": [
    {
      "cell_type": "markdown",
      "metadata": {
        "id": "view-in-github",
        "colab_type": "text"
      },
      "source": [
        "<a href=\"https://colab.research.google.com/github/Ariascarljans/58010-DSAA/blob/main/Activity_2.ipynb\" target=\"_parent\"><img src=\"https://colab.research.google.com/assets/colab-badge.svg\" alt=\"Open In Colab\"/></a>"
      ]
    },
    {
      "cell_type": "code",
      "execution_count": 2,
      "metadata": {
        "colab": {
          "base_uri": "https://localhost:8080/"
        },
        "id": "fsKV6UApAlCe",
        "outputId": "7a2bfdf8-af9f-4463-f0df-e485cc6fca09"
      },
      "outputs": [
        {
          "output_type": "stream",
          "name": "stdout",
          "text": [
            "Prime numbers less than 20: [2, 3, 5, 7, 11, 13, 17, 19]\n",
            "Head of the list: 2\n",
            "Tail of the list: 19\n"
          ]
        }
      ],
      "source": [
        "\n",
        "class Node:\n",
        "    def __init__(self, data):\n",
        "        self.data = data\n",
        "        self.next = None\n",
        "\n",
        "\n",
        "class LinkedList:\n",
        "    def __init__(self):\n",
        "        self.head = None\n",
        "        self.tail = None\n",
        "\n",
        "\n",
        "    def append(self, data):\n",
        "        new_node = Node(data)\n",
        "        if not self.head:\n",
        "            self.head = new_node\n",
        "            self.tail = new_node\n",
        "        else:\n",
        "            self.tail.next = new_node\n",
        "            self.tail = new_node\n",
        "\n",
        "\n",
        "def is_prime(num):\n",
        "    if num <= 1:\n",
        "        return False\n",
        "    for i in range(2, int(num**0.5) + 1):\n",
        "        if num % i == 0:\n",
        "            return False\n",
        "    return True\n",
        "\n",
        "\n",
        "prime_list = LinkedList()\n",
        "\n",
        "\n",
        "for num in range(2, 20):\n",
        "    if is_prime(num):\n",
        "        prime_list.append(num)\n",
        "\n",
        "\n",
        "current = prime_list.head\n",
        "prime_numbers = []\n",
        "\n",
        "while current:\n",
        "    prime_numbers.append(current.data)\n",
        "    current = current.next\n",
        "\n",
        "print(\"Prime numbers less than 20:\", prime_numbers)\n",
        "print(\"Head of the list:\", prime_list.head.data)\n",
        "print(\"Tail of the list:\", prime_list.tail.data)\n"
      ]
    }
  ]
}