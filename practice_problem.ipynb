{
  "nbformat": 4,
  "nbformat_minor": 0,
  "metadata": {
    "colab": {
      "provenance": [],
      "authorship_tag": "ABX9TyPZUgwK1/GQ8hYvveoM6Fau",
      "include_colab_link": true
    },
    "kernelspec": {
      "name": "python3",
      "display_name": "Python 3"
    },
    "language_info": {
      "name": "python"
    }
  },
  "cells": [
    {
      "cell_type": "markdown",
      "metadata": {
        "id": "view-in-github",
        "colab_type": "text"
      },
      "source": [
        "<a href=\"https://colab.research.google.com/github/Ariascarljans/58010-DSAA/blob/main/practice_problem.ipynb\" target=\"_parent\"><img src=\"https://colab.research.google.com/assets/colab-badge.svg\" alt=\"Open In Colab\"/></a>"
      ]
    },
    {
      "cell_type": "code",
      "execution_count": 2,
      "metadata": {
        "colab": {
          "base_uri": "https://localhost:8080/"
        },
        "id": "b0fDwLQw5Wul",
        "outputId": "4e10defa-bace-4b8a-bfc7-63c1c2d62578"
      },
      "outputs": [
        {
          "output_type": "stream",
          "name": "stdout",
          "text": [
            "Total sum of even test scores: 186\n"
          ]
        }
      ],
      "source": [
        "\n",
        "total = 0\n",
        "test_scores = [26, 49, 98, 87, 62, 75]\n",
        "\n",
        "for score in test_scores:\n",
        "\n",
        "    if score % 2 == 0:\n",
        "\n",
        "        total += score\n",
        "print(\"Total sum of even test scores:\", total)\n"
      ]
    }
  ]
}