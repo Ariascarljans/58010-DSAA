{
  "nbformat": 4,
  "nbformat_minor": 0,
  "metadata": {
    "colab": {
      "provenance": [],
      "authorship_tag": "ABX9TyNuwu4hhFDqyz9xxC7PMUP3",
      "include_colab_link": true
    },
    "kernelspec": {
      "name": "python3",
      "display_name": "Python 3"
    },
    "language_info": {
      "name": "python"
    }
  },
  "cells": [
    {
      "cell_type": "markdown",
      "metadata": {
        "id": "view-in-github",
        "colab_type": "text"
      },
      "source": [
        "<a href=\"https://colab.research.google.com/github/Ariascarljans/58010-DSAA/blob/main/Long_Quiz_1.ipynb\" target=\"_parent\"><img src=\"https://colab.research.google.com/assets/colab-badge.svg\" alt=\"Open In Colab\"/></a>"
      ]
    },
    {
      "cell_type": "markdown",
      "source": [
        "Question 1\n"
      ],
      "metadata": {
        "id": "QUGM86DHJr7g"
      }
    },
    {
      "cell_type": "code",
      "source": [
        "import array\n",
        "\n",
        "full_name = input(\"Enter your full name: \")\n",
        "\n",
        "characters = []\n",
        "\n",
        "\n",
        "for char in full_name:\n",
        "    characters.append(char)\n",
        "\n",
        "print(\"Characters in reverse order:\")\n",
        "\n",
        "for char in reversed(characters):\n",
        "    print(char)"
      ],
      "metadata": {
        "id": "aU76sBeWJ5Ro"
      },
      "execution_count": null,
      "outputs": []
    },
    {
      "cell_type": "markdown",
      "source": [
        "Question 2\n"
      ],
      "metadata": {
        "id": "wgi34K1GKWWZ"
      }
    },
    {
      "cell_type": "code",
      "source": [
        "def is_prime(n):\n",
        "    if n <= 1:\n",
        "        return False\n",
        "    if n <= 3:\n",
        "        return True\n",
        "    if n % 2 == 0 or n % 3 == 0:\n",
        "        return False\n",
        "    i = 5\n",
        "    while i * i <= n:\n",
        "        if n % i == 0 or n % (i + 2) == 0:\n",
        "            return False\n",
        "        i += 6\n",
        "    return True\n",
        "\n",
        "numbers = range (1, 11)\n",
        "\n",
        "for number in numbers:\n",
        "    if is_prime(number):\n",
        "        print(f\"{number} is prime\")\n",
        "    else:\n",
        "        print(f\"{number} is composite\")"
      ],
      "metadata": {
        "id": "fRdgCk_hKXuo"
      },
      "execution_count": null,
      "outputs": []
    }
  ]
}